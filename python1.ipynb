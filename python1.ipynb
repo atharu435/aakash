{
 "cells": [
  {
   "cell_type": "code",
   "execution_count": 6,
   "metadata": {},
   "outputs": [],
   "source": [
    "import random as rn\n",
    "d = ['A','K','A','S']                                # List of  Characters\n",
    "D = [rn.choice(d) for i in range(20000)]             # Forming a big list of size 10000 from the elements of previous list\n",
    "DNA = ''.join(D)"
   ]
  },
  {
   "cell_type": "markdown",
   "metadata": {},
   "source": [
    "1. Counting indivudial Characteristic in DNA"
   ]
  },
  {
   "cell_type": "code",
   "execution_count": 7,
   "metadata": {},
   "outputs": [
    {
     "name": "stdout",
     "output_type": "stream",
     "text": [
      "{'S': 5090, 'A': 9906, 'K': 5004}\n"
     ]
    }
   ],
   "source": [
    "count = {i: DNA.count(i) for i in D}\n",
    "print(count)"
   ]
  },
  {
   "cell_type": "markdown",
   "metadata": {},
   "source": [
    "2.Counting Combination of two Characters in the DNA"
   ]
  },
  {
   "cell_type": "code",
   "execution_count": 8,
   "metadata": {},
   "outputs": [
    {
     "name": "stdout",
     "output_type": "stream",
     "text": [
      "{'AK': 2483, 'AA': 3281, 'AS': 2503, 'KA': 2458, 'KS': 1297}\n"
     ]
    }
   ],
   "source": [
    "from itertools import combinations\n",
    "comb = list(combinations(d,2))                     # Forming a list of tuples of all possible combinations of two characters     \n",
    "join = [''.join(tups) for tups in comb]            # Joining the strings inside each tuple\n",
    "count = {i: DNA.count(i) for i in join}            # Counting all such DNA with two characters\n",
    "print(count)"
   ]
  },
  {
   "cell_type": "markdown",
   "metadata": {},
   "source": [
    "3.Counting Combination of Three Characters in the DNA"
   ]
  },
  {
   "cell_type": "code",
   "execution_count": 9,
   "metadata": {},
   "outputs": [
    {
     "name": "stdout",
     "output_type": "stream",
     "text": [
      "{'AKA': 1072, 'AKS': 664, 'AAS': 1219, 'KAS': 630}\n"
     ]
    }
   ],
   "source": [
    "from itertools import combinations\n",
    "comb = list(combinations(d,3))                     # Forming a list of tuples of all possible combinations of three characters     \n",
    "join = [''.join(tups) for tups in comb]            # Joining the strings inside each tuple\n",
    "count = {i: DNA.count(i) for i in join}            # Counting all such DNA with three characters\n",
    "print(count)"
   ]
  },
  {
   "cell_type": "code",
   "execution_count": null,
   "metadata": {},
   "outputs": [],
   "source": []
  }
 ],
 "metadata": {
  "kernelspec": {
   "display_name": "Python 3",
   "language": "python",
   "name": "python3"
  },
  "language_info": {
   "codemirror_mode": {
    "name": "ipython",
    "version": 3
   },
   "file_extension": ".py",
   "mimetype": "text/x-python",
   "name": "python",
   "nbconvert_exporter": "python",
   "pygments_lexer": "ipython3",
   "version": "3.8.3"
  }
 },
 "nbformat": 4,
 "nbformat_minor": 4
}
