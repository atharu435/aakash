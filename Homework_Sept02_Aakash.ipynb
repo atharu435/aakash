{
 "cells": [
  {
   "cell_type": "markdown",
   "metadata": {},
   "source": [
    "# Task 1: Create Class: Gravitation\n",
    "### The garavitational force, potential and intensity are given as;\n",
    "- Gravitational force between two masses sepateted by some distance\n",
    "- $F = G \\frac{m_1m_2}{r^2}$\n",
    "- Gravitational potential of a mass at some distance\n",
    "- $V = G \\frac{m_1}{r}$\n",
    "- Gravitational intensity of a mass at some distance\n",
    "- $g = G \\frac{m_1}{r^2}$\n",
    "### Create a class of these three function\n",
    "### Use lists to calculate functional value with variation of distance r within some range\n",
    "### Use matplotlib to plot the variation of function with distance r \n",
    "### Try to plot semilog and log log plot also\n",
    "# Task 2: Electrostatic vs Gravitational force\n",
    "### write the suitable code for electrostatic force between two charges and gravitational force between two masses\n",
    "### Calculate the electrostatic force and gravitational force between electron and proton within H - atom and compare them\n",
    "### Using the lists calculate the electrostatic and gravitational force between electron and protron for a range of separation \n",
    "### Plot the variation of electrostatic and gravitational force between them using matplotlib\n",
    "### Use semilog and loglog plot for the comparison of the electrostatic and gravitational force. \n",
    "### Use following data for calculation;\n",
    "- mass of electron and proton; $9.1\\times10^{-31}kg, 1.67 \\times 10^{-27} kg$\n",
    "- charge of electron and proton; $ 1.6 \\times 10^{-19}C$\n",
    "- Distance between electron and proton in H- atom; $5.29\\times 10^{-11}m$\n"
   ]
  },
  {
   "cell_type": "markdown",
   "metadata": {},
   "source": [
    "# Solution:"
   ]
  },
  {
   "cell_type": "markdown",
   "metadata": {},
   "source": [
    "# Task 1:"
   ]
  },
  {
   "cell_type": "markdown",
   "metadata": {},
   "source": [
    "### Using these list to calculate functional value with variation of distance r with in same range"
   ]
  },
  {
   "cell_type": "markdown",
   "metadata": {},
   "source": [
    "#### (a) Variation of Gravitational force at a range of distance (r)."
   ]
  },
  {
   "cell_type": "code",
   "execution_count": 1,
   "metadata": {},
   "outputs": [],
   "source": [
    "def Force(d):\n",
    "    m1 = 300\n",
    "    m2 = 500\n",
    "    F = ((6.67*10e-11) * m1 * m2) / r**2\n",
    "    return F"
   ]
  },
  {
   "cell_type": "code",
   "execution_count": 2,
   "metadata": {},
   "outputs": [
    {
     "name": "stdout",
     "output_type": "stream",
     "text": [
      "[1, 2, 3, 4, 5, 6, 7, 8, 9] [0.00010004999999999999, 2.5012499999999998e-05, 1.1116666666666666e-05, 6.2531249999999995e-06, 4.002e-06, 2.7791666666666666e-06, 2.0418367346938773e-06, 1.5632812499999999e-06, 1.2351851851851851e-06]\n"
     ]
    }
   ],
   "source": [
    "X = [] #empty list\n",
    "Y = [] \n",
    "for r in range(1,10):\n",
    "    X.append(r)\n",
    "    F1 = Force(r)\n",
    "    Y.append(F1)\n",
    "print(X,Y)"
   ]
  },
  {
   "cell_type": "markdown",
   "metadata": {},
   "source": [
    "#### (b) Variation of Gravitational Potential at a range of distance (r)."
   ]
  },
  {
   "cell_type": "code",
   "execution_count": 3,
   "metadata": {},
   "outputs": [],
   "source": [
    "def Potential(r):\n",
    "    m1 = 300\n",
    "    V = ((6.67*10e-11) * m1) / r\n",
    "    return V"
   ]
  },
  {
   "cell_type": "code",
   "execution_count": 4,
   "metadata": {},
   "outputs": [
    {
     "name": "stdout",
     "output_type": "stream",
     "text": [
      "[1, 2, 3, 4, 5, 6, 7, 8, 9] [2.001e-08, 2.001e-08, 2.001e-08, 2.001e-08, 2.001e-08, 2.001e-08, 2.001e-08, 2.001e-08, 2.001e-08]\n"
     ]
    }
   ],
   "source": [
    "X = [] #empty list\n",
    "Y = [] \n",
    "for r in range(1,10):\n",
    "    X.append(r)\n",
    "    V1 = Potential(10)\n",
    "    Y.append(V1)\n",
    "print(X,Y)"
   ]
  },
  {
   "cell_type": "markdown",
   "metadata": {},
   "source": [
    "#### (c) Variation of Gravitational Intensity at a range of distance (r)."
   ]
  },
  {
   "cell_type": "code",
   "execution_count": 5,
   "metadata": {},
   "outputs": [],
   "source": [
    "def Intensity(r):\n",
    "    m1 = 300\n",
    "    g = ((6.67*10e-11) * m1) / r**2\n",
    "    return g"
   ]
  },
  {
   "cell_type": "code",
   "execution_count": 6,
   "metadata": {},
   "outputs": [
    {
     "name": "stdout",
     "output_type": "stream",
     "text": [
      "[1, 2, 3, 4, 5, 6, 7, 8, 9] [2.001e-07, 5.0025e-08, 2.2233333333333334e-08, 1.250625e-08, 8.004e-09, 5.5583333333333335e-09, 4.083673469387755e-09, 3.1265625e-09, 2.4703703703703703e-09]\n"
     ]
    }
   ],
   "source": [
    "X = [] #empty list\n",
    "Y = [] \n",
    "for r in range(1,10):\n",
    "    X.append(r)\n",
    "    g1 = Intensity(r)\n",
    "    Y.append(g1)\n",
    "print(X,Y)"
   ]
  },
  {
   "cell_type": "markdown",
   "metadata": {},
   "source": [
    "### 2) Using matplotlib to plot the variation of function with distance r of a class of these three function ,also Plot semilog and log log plot ."
   ]
  },
  {
   "cell_type": "code",
   "execution_count": 7,
   "metadata": {},
   "outputs": [],
   "source": [
    "import matplotlib.pyplot as plt\n",
    "%matplotlib inline"
   ]
  },
  {
   "cell_type": "code",
   "execution_count": 8,
   "metadata": {},
   "outputs": [],
   "source": [
    "class Gravitation():\n",
    "    def __init__ (self,G,m1,m2,r):\n",
    "        self.G = G\n",
    "        self.m1 =m1\n",
    "        self.m2 = m2                       \n",
    "    def Force(self,r):\n",
    "        F=self.G*self.m1*self.m2/r**2\n",
    "        return F\n",
    "    def Potential(self,r):\n",
    "        V=self.G*self.m1/r\n",
    "        return V\n",
    "    def Intensity(self,r):\n",
    "        E=self.G*self.m1/r**2\n",
    "        return E"
   ]
  },
  {
   "cell_type": "code",
   "execution_count": 9,
   "metadata": {},
   "outputs": [],
   "source": [
    "G=6.67*10e-11\n",
    "m1 = 300 # in kilogram\n",
    "m2 = 500 # in kilogram\n",
    "R=[] #empty list to collect distance r\n",
    "F=[] #empty list to collect gravitational force\n",
    "V=[] #empty list to collect gravitationalpotential\n",
    "E=[] #empty list to collect gravitational intensity\n",
    "for r in range(1,100000): #for loop\n",
    "    A1 = Gravitation(G,m1,m2,r)\n",
    "    f= A1.Force(r)\n",
    "    v=A1.Potential(r)\n",
    "    e=A1.Intensity(r)\n",
    "    R.append(r)\n",
    "    F.append(f)\n",
    "    V.append(v)\n",
    "    E.append(e)"
   ]
  },
  {
   "cell_type": "code",
   "execution_count": 10,
   "metadata": {},
   "outputs": [
    {
     "data": {
      "text/plain": [
       "Text(0, 0.5, 'ln F, ln V, ln E')"
      ]
     },
     "execution_count": 10,
     "metadata": {},
     "output_type": "execute_result"
    },
    {
     "data": {
      "image/png": "[encoded data removed]",
      "text/plain": [
       "<Figure size 1440x1440 with 3 Axes>"
      ]
     },
     "metadata": {
      "needs_background": "light"
     },
     "output_type": "display_data"
    }
   ],
   "source": [
    "plt.figure(figsize = [20,20])\n",
    "plt.subplot(3,3,1)\n",
    "plt.plot(R, F, label = 'force')\n",
    "plt.plot(R, V, label = 'potential')\n",
    "plt.plot(R, E, label = 'intensity')\n",
    "plt.legend()\n",
    "plt.xlabel('r')\n",
    "plt.ylabel('F, V, E')\n",
    "\n",
    "plt.subplot(3,3,2)\n",
    "plt.semilogy(R, F, label = 'force')\n",
    "plt.semilogy(R, V, label = 'potential')\n",
    "plt.semilogy(R, E, label = 'intensity')\n",
    "plt.legend()\n",
    "plt.xlabel('r')\n",
    "plt.ylabel('ln F, ln V, ln E')\n",
    "\n",
    "plt.subplot(3,3,3)\n",
    "plt.loglog(R, F, label = 'force')\n",
    "plt.loglog(R, V, label = 'potential')\n",
    "plt.loglog(R, E, label = 'intensity')\n",
    "plt.legend()\n",
    "plt.xlabel('ln r')\n",
    "plt.ylabel('ln F, ln V, ln E')"
   ]
  },
  {
   "cell_type": "markdown",
   "metadata": {},
   "source": [
    "## Task 2 : "
   ]
  },
  {
   "cell_type": "markdown",
   "metadata": {},
   "source": [
    "### 1) write the suitable code for electrostatic force between two charges and gravitational force between two masses."
   ]
  },
  {
   "cell_type": "markdown",
   "metadata": {},
   "source": [
    "#### (a) Code for electrostatic force between two charges."
   ]
  },
  {
   "cell_type": "code",
   "execution_count": 11,
   "metadata": {},
   "outputs": [],
   "source": [
    "def Coulomb(Q1, Q2, d):\n",
    "    return ((9*(10**9)) * Q1 * Q2) / d**2"
   ]
  },
  {
   "cell_type": "markdown",
   "metadata": {},
   "source": [
    "#### (b) Code for gravitational force between two masses."
   ]
  },
  {
   "cell_type": "code",
   "execution_count": 12,
   "metadata": {},
   "outputs": [],
   "source": [
    "def Gravitation(M1, M2, d):\n",
    "    return ((6.67*10e-11) * M1 * M2) / d**2"
   ]
  },
  {
   "cell_type": "markdown",
   "metadata": {},
   "source": [
    "### 2) Calculate the electrostatic force and gravitational force between electron and proton within H - atom and compare them."
   ]
  },
  {
   "cell_type": "code",
   "execution_count": 13,
   "metadata": {},
   "outputs": [],
   "source": [
    "def Electrostatic(Qe, Qp, d):\n",
    "    return ((9*(10**9)) * Qe * Qp) / d**2"
   ]
  },
  {
   "cell_type": "code",
   "execution_count": 14,
   "metadata": {},
   "outputs": [],
   "source": [
    "def Coulomb(Q1, Q2, d):\n",
    "    return ((9*(10**9)) * Q1 * Q2) / d**2"
   ]
  },
  {
   "cell_type": "code",
   "execution_count": 15,
   "metadata": {},
   "outputs": [],
   "source": [
    "def Gravitational(Me, Mp, d):\n",
    "    return ((6.67*10e-11) * Me * Mp) / d**2"
   ]
  },
  {
   "cell_type": "code",
   "execution_count": 16,
   "metadata": {},
   "outputs": [
    {
     "data": {
      "text/plain": [
       "3.626179830689569e-46"
      ]
     },
     "execution_count": 16,
     "metadata": {},
     "output_type": "execute_result"
    }
   ],
   "source": [
    "Gravitational(9.11*10e-31,1.67*10e-27,5.29*10e-11) #Here, Qe(charge of electron in H-atom) = (9.11*10e-31)kg, Qp(mass of proton in H-atom) = (1.67*10e-27)kg, d(distance between proton and electron in H-atom) = (5.29*10e-11)m"
   ]
  },
  {
   "cell_type": "markdown",
   "metadata": {},
   "source": [
    "### Comparision between these two forces."
   ]
  },
  {
   "cell_type": "code",
   "execution_count": 17,
   "metadata": {},
   "outputs": [],
   "source": [
    "class Comparision():\n",
    "    def __init__(self,G,K,me,mp,qe,qp,r):\n",
    "        self.G = G\n",
    "        self.K = K\n",
    "        self.me = me\n",
    "        self.mp = mp\n",
    "        self.qe = qe\n",
    "        self.qp = qp\n",
    "        self.r = r\n",
    "    def f1(self):\n",
    "        F1 = (self.G*self.me*self.mp)/(self.r**2)\n",
    "        return F1\n",
    "    def f2(self):\n",
    "        F2 = (self.K*self.qe*self.qp)/self.r**2\n",
    "        return F2"
   ]
  },
  {
   "cell_type": "code",
   "execution_count": 18,
   "metadata": {},
   "outputs": [
    {
     "name": "stdout",
     "output_type": "stream",
     "text": [
      "Electrostatic force is greater than Gravitatonal force \n"
     ]
    }
   ],
   "source": [
    "C = Comparision(6.67e-11,9e9,9.1e-31,1.67e-27,1.6e-19,1.6e-19,5.29e-11)\n",
    "g = C.f1()\n",
    "e = C.f2()\n",
    "\n",
    "if e > g:\n",
    "    print(\"Electrostatic force is greater than Gravitatonal force \")\n",
    "else:\n",
    "    print(\"Gravitational force is greater than Electrostatic force \")"
   ]
  },
  {
   "cell_type": "markdown",
   "metadata": {},
   "source": [
    "### 3) Using the lists to calculate the electrostatic and gravitational force between electron and protron for a range of separation."
   ]
  },
  {
   "cell_type": "markdown",
   "metadata": {},
   "source": [
    "#### (a) For electrostatic Force."
   ]
  },
  {
   "cell_type": "code",
   "execution_count": 19,
   "metadata": {},
   "outputs": [],
   "source": [
    "def Coulomb(d):\n",
    "    Qe = 1.6*10e-19\n",
    "    Qp = 1.6*10e-19\n",
    "    F = ((9*(10**9)) * Qe * Qp) / d**2\n",
    "    return F"
   ]
  },
  {
   "cell_type": "code",
   "execution_count": 20,
   "metadata": {},
   "outputs": [
    {
     "name": "stdout",
     "output_type": "stream",
     "text": [
      "[1, 2, 3, 4] [1.000520010300154e-14, 1.000520010300154e-14, 1.000520010300154e-14, 1.000520010300154e-14]\n"
     ]
    }
   ],
   "source": [
    "X = [] #empty list\n",
    "Y = []\n",
    "for d in range(1,5):\n",
    "    X.append(d)\n",
    "    F1 = Force(d)\n",
    "    Y.append(F1)\n",
    "print(X,Y)"
   ]
  },
  {
   "cell_type": "markdown",
   "metadata": {},
   "source": [
    "#### (b) For gravitational Force."
   ]
  },
  {
   "cell_type": "code",
   "execution_count": 21,
   "metadata": {},
   "outputs": [],
   "source": [
    "def Force(d):\n",
    "    Me = 9.11*10e-31\n",
    "    Mp = 1.67*10e-27\n",
    "    F = ((6.67*10e-11) * Me * Mp) / d**2\n",
    "    return F"
   ]
  },
  {
   "cell_type": "code",
   "execution_count": 22,
   "metadata": {},
   "outputs": [
    {
     "name": "stdout",
     "output_type": "stream",
     "text": [
      "[1, 2, 3, 4] [1.0147537899999999e-64, 2.5368844749999997e-65, 1.127504211111111e-65, 6.342211187499999e-66]\n"
     ]
    }
   ],
   "source": [
    "X = [] #empty list\n",
    "Y = [] \n",
    "for d in range(1,5):\n",
    "    X.append(d)\n",
    "    F1 = Force(d)\n",
    "    Y.append(F1)\n",
    "print(X,Y)"
   ]
  },
  {
   "cell_type": "markdown",
   "metadata": {},
   "source": [
    "### 4) Plot the variation of electrostatic and gravitational force between them using matplotlib. Use semilog and loglog plot for the comparison of the electrostatic and gravitational force."
   ]
  },
  {
   "cell_type": "code",
   "execution_count": 23,
   "metadata": {},
   "outputs": [],
   "source": [
    "import matplotlib.pyplot as plt\n",
    "%matplotlib inline"
   ]
  },
  {
   "cell_type": "code",
   "execution_count": 24,
   "metadata": {},
   "outputs": [],
   "source": [
    "class Variation():\n",
    "    \n",
    "    def __init__(self,G,K,me,mp,qe,qp):\n",
    "        self.G = G\n",
    "        self.K = K\n",
    "        self.me = me\n",
    "        self.mp = mp\n",
    "        self.qe = qe\n",
    "        self.qp = qp\n",
    "        \n",
    "    def f1(self,r):\n",
    "        F1 = (self.G*self.me*self.mp)/(r**2)\n",
    "        return F1\n",
    "    \n",
    "    def f2(self,r):\n",
    "        F2 = (self.K*self.qe*self.qp)/(r**2)\n",
    "        return F2\n"
   ]
  },
  {
   "cell_type": "code",
   "execution_count": 25,
   "metadata": {},
   "outputs": [],
   "source": [
    "V = Variation(6.67e-11,9e9,9.1e-31,1.67e-27,1.6e-19,1.6e-19)\n",
    "R = []\n",
    "X = []\n",
    "Y = []\n",
    "for r in range (1,20000):\n",
    "    g = V.f1(r)\n",
    "    e = V.f2(r)\n",
    "    R.append(r)\n",
    "    X.append(g)\n",
    "    Y.append(e)"
   ]
  },
  {
   "cell_type": "code",
   "execution_count": 26,
   "metadata": {},
   "outputs": [
    {
     "data": {
      "text/plain": [
       "Text(0.5, 1.0, 'Electrostatic Vs. Gravitational Force')"
      ]
     },
     "execution_count": 26,
     "metadata": {},
     "output_type": "execute_result"
    },
    {
     "data": {
      "image/png": "[encoded data removed]",
      "text/plain": [
       "<Figure size 1440x1440 with 3 Axes>"
      ]
     },
     "metadata": {
      "needs_background": "light"
     },
     "output_type": "display_data"
    }
   ],
   "source": [
    "import matplotlib.pyplot as plt\n",
    "plt.figure(figsize = [20,20])\n",
    "plt.subplot(3,3,1)\n",
    "plt.plot(R,X, label = \"Electrostatic Force\")\n",
    "plt.plot(R,Y, label = \"Gravitational Force\")\n",
    "plt.legend()\n",
    "plt.ylabel(\"Electrostatic and Gravitational Force\")\n",
    "plt.xlabel(\"r\")\n",
    "plt.title(\"Electrostatic Vs. Gravitational Force\")\n",
    "\n",
    "\n",
    "plt.subplot(3,3,2)\n",
    "plt.semilogy(R,X, label = \"Electrostatic Force\")\n",
    "plt.semilogy(R,Y, label = \"Gravitational Force\")\n",
    "plt.legend()\n",
    "plt.ylabel(\"Electrostatic and Gravitational Force\")\n",
    "plt.xlabel(\"r\")\n",
    "plt.title(\"Electrostatic Vs. Gravitational Force\")\n",
    "\n",
    "plt.subplot(3,3,3)\n",
    "plt.loglog(R,X, label = \"Electrostatic Force\")\n",
    "plt.loglog(R,Y, label = \"Gravitational Force\")\n",
    "plt.legend()\n",
    "plt.ylabel(\"Electrostatic and Gravitational Force\")\n",
    "plt.xlabel(\"r\")\n",
    "plt.title(\"Electrostatic Vs. Gravitational Force\")"
   ]
  },
  {
   "cell_type": "code",
   "execution_count": null,
   "metadata": {},
   "outputs": [],
   "source": []
  }
 ],
 "metadata": {
  "kernelspec": {
   "display_name": "Python 3",
   "language": "python",
   "name": "python3"
  },
  "language_info": {
   "codemirror_mode": {
    "name": "ipython",
    "version": 3
   },
   "file_extension": ".py",
   "mimetype": "text/x-python",
   "name": "python",
   "nbconvert_exporter": "python",
   "pygments_lexer": "ipython3",
   "version": "3.8.3"
  }
 },
 "nbformat": 4,
 "nbformat_minor": 4
}
