{
 "cells": [
  {
   "cell_type": "markdown",
   "metadata": {},
   "source": [
    "## Electrostatic force between the charges\n",
    "### The Coulomb's force between two charges $q_1$ and $q_2$ separated at distance $r$ is given as; \n",
    "#### $ F = k \\frac{q_1q_2}{r^2}$, where $ k = 9\\times 10^9 Nm^2C^{-2}$"
   ]
  },
  {
   "cell_type": "markdown",
   "metadata": {},
   "source": [
    "- Write a code for function to calculate the Coulomb's force between two given charge at given distance\n",
    "- use list to calculate the variation of Coulomb's force between two charges (as you like) placed at a range of distance (choose range in your favour)\n",
    "- Make a plot that shows the variation of Coulomb's force with distance using list"
   ]
  },
  {
   "cell_type": "markdown",
   "metadata": {},
   "source": [
    "### A code for function to calculate the Coulomb's force between two given charge at given distance."
   ]
  },
  {
   "cell_type": "code",
   "execution_count": 1,
   "metadata": {},
   "outputs": [],
   "source": [
    "def coulomb(q1,q2,d):\n",
    "    return((9*(10**9))*q1*q2)/d**2"
   ]
  },
  {
   "cell_type": "code",
   "execution_count": 2,
   "metadata": {},
   "outputs": [
    {
     "data": {
      "text/plain": [
       "60000000000.0"
      ]
     },
     "execution_count": 2,
     "metadata": {},
     "output_type": "execute_result"
    }
   ],
   "source": [
    "coulomb(10,6,3) #Here, q1=10c,q2=6c,d=3"
   ]
  },
  {
   "cell_type": "markdown",
   "metadata": {},
   "source": [
    "### Using list to calculate the variation of Coulomb's force between two charges placed at a range of distance.\n",
    "\n",
    " $ F = k \\frac{q_1q_2}{r^2}$, where $ k = 9\\times 10^9 Nm^2C^{-2}$"
   ]
  },
  {
   "cell_type": "code",
   "execution_count": 3,
   "metadata": {},
   "outputs": [],
   "source": [
    "def coulomb(d):\n",
    "    q1=10\n",
    "    q2=6\n",
    "    F=((9*(10**9))*q1*q2)/d**2\n",
    "    return F\n"
   ]
  },
  {
   "cell_type": "code",
   "execution_count": 4,
   "metadata": {},
   "outputs": [
    {
     "name": "stdout",
     "output_type": "stream",
     "text": [
      "[1] [540000000000.0]\n",
      "[1, 2] [540000000000.0, 135000000000.0]\n",
      "[1, 2, 3] [540000000000.0, 135000000000.0, 60000000000.0]\n",
      "[1, 2, 3, 4] [540000000000.0, 135000000000.0, 60000000000.0, 33750000000.0]\n",
      "[1, 2, 3, 4, 5] [540000000000.0, 135000000000.0, 60000000000.0, 33750000000.0, 21600000000.0]\n"
     ]
    }
   ],
   "source": [
    "X=[] #empty list\n",
    "Y=[]\n",
    "for d in range (1,6):\n",
    "    X.append(d)\n",
    "    F1=coulomb(d)\n",
    "    Y.append(F1)\n",
    "    print(X,Y)\n"
   ]
  },
  {
   "cell_type": "markdown",
   "metadata": {},
   "source": [
    "### A plot that shows the variation of Coulomb's force with distance using list."
   ]
  },
  {
   "cell_type": "code",
   "execution_count": 5,
   "metadata": {},
   "outputs": [],
   "source": [
    "import matplotlib.pyplot as plt #plt is arbitrary \n",
    "%matplotlib inline"
   ]
  },
  {
   "cell_type": "code",
   "execution_count": 8,
   "metadata": {},
   "outputs": [
    {
     "data": {
      "image/png": "[encoded data removed]",
      "text/plain": [
       "<Figure size 432x288 with 1 Axes>"
      ]
     },
     "metadata": {
      "needs_background": "light"
     },
     "output_type": "display_data"
    }
   ],
   "source": [
    "plt.plot(X,Y,color='y',lw = 2)\n",
    "plt.xlabel('r',fontsize=15)\n",
    "plt.ylabel('F',fontsize=20)\n",
    "plt.xticks(fontsize=20)\n",
    "plt.title('Coulomb Force',fontsize=30)\n",
    "plt.savefig('pyplot.jpg')"
   ]
  },
  {
   "cell_type": "code",
   "execution_count": null,
   "metadata": {},
   "outputs": [],
   "source": []
  }
 ],
 "metadata": {
  "kernelspec": {
   "display_name": "Python 3",
   "language": "python",
   "name": "python3"
  },
  "language_info": {
   "codemirror_mode": {
    "name": "ipython",
    "version": 3
   },
   "file_extension": ".py",
   "mimetype": "text/x-python",
   "name": "python",
   "nbconvert_exporter": "python",
   "pygments_lexer": "ipython3",
   "version": "3.8.3"
  }
 },
 "nbformat": 4,
 "nbformat_minor": 4
}
